{
 "cells": [
  {
   "cell_type": "markdown",
   "id": "77b907a9",
   "metadata": {},
   "source": [
    "# Classe"
   ]
  },
  {
   "cell_type": "markdown",
   "id": "b9449027",
   "metadata": {},
   "source": [
    "+ Un modèle a partir duquel on fabrique un objet.\n",
    "+ Une famille d’objets ayant une même structure et un même comportement.\n",
    "+ caractérisée par un nom et formé de :\n",
    "    Attribut\n",
    "    Méthode \n",
    "+ Une classe doit fournir au moins une méthode dite constructeur qui permet de créer des objets. \n",
    "+ Syntaxe :\n",
    "    nomdel’objet = nomdelaclasse()\n",
    "+ Création d’objet = instanciation  \n",
    "+ Les méthodes ont toujours un premier argument on l'appelle self.\n",
    "+ self représente, dans la méthode, l'instance et fait référence vers l’objet local.\n"
   ]
  },
  {
   "cell_type": "markdown",
   "id": "b180cdbe",
   "metadata": {},
   "source": [
    "## Constructeur"
   ]
  },
  {
   "cell_type": "code",
   "execution_count": 7,
   "id": "e95b2454",
   "metadata": {},
   "outputs": [],
   "source": [
    "class Exemple:\n",
    "    def __init__(self):\n",
    "        print(\"Je suis un objet de la classe Exemple\")"
   ]
  },
  {
   "cell_type": "markdown",
   "id": "ad346bbe",
   "metadata": {},
   "source": [
    "## Déclaration\n"
   ]
  },
  {
   "cell_type": "code",
   "execution_count": 5,
   "id": "1114c814",
   "metadata": {
    "scrolled": true
   },
   "outputs": [
    {
     "name": "stdout",
     "output_type": "stream",
     "text": [
      "005545\n"
     ]
    }
   ],
   "source": [
    "class Etudiant :\n",
    "    def __init__(self,code,nom,prenom):\n",
    "        self.code=code\n",
    "        self.nom=nom\n",
    "        self.prenom=prenom\n",
    "        pass\n",
    "e=Etudiant(\"005545\",\"Mohamed\",\"Ahmed\")\n",
    "print(e.code)"
   ]
  },
  {
   "cell_type": "markdown",
   "id": "fab2b1ae",
   "metadata": {},
   "source": [
    "## Un attribut\n",
    "- est une variable associée à une classe\n",
    "- Un attribut défini une propriété d’un objet d’une classe \n",
    "- Les attributs sont publiques par défaut \n",
    "- Les attributs peuvent être aussi \n",
    "    - Privés : accessible seulement depuis l’intérieur de la classe \n",
    "    - protégés : accessible depuis l’intérieur de la classe et des classes filles \n",
    "- les types d'attributs :\n",
    "    + Attribut de la classe :\n",
    "        Défini dans la classe\n",
    "        Assigner une valeur à cet attribut dans le corps de la classe.\n",
    "        Valeur partagée par tous les objets instanciés \n",
    "        Nomdelaclasse.attribut\n",
    "    + Attribut d'instance :\n",
    "        Défini dans le constructeur \n",
    "        Propre à chaque instance \n",
    "        Nomobjet.attribut\n",
    "        On peut Ajouter des attributs à des objets créer mais qui ne sont pas définis dans le constructeur \n",
    "        Pour interdire l’ajout d’un attribut d’objet : __slots__={\"couleur\",\"prix\"}\n",
    "        Pour énumérer de façon exhaustive les attributs d’objets\n"
   ]
  },
  {
   "cell_type": "code",
   "execution_count": null,
   "id": "cf7fc162",
   "metadata": {},
   "outputs": [],
   "source": [
    "# Exemple 1\n",
    "class Etudiant :\n",
    "    nombre=0 # attribut de classe \n",
    "    def _ init _ (self, d_code, d_nom, d_prenom,d_nombre) :\n",
    "        self.code = d_code\n",
    "        self.nom = d_nom\n",
    "        self.prenom = d_prenom\n",
    "        self.nombre=d_nombre\n",
    "        Etudiant.nombre +=1\n",
    "        \n",
    "e=Etudiant(\"005545\",\"Mohamed\",\"Ahmed\",6)\n",
    "e1=Etudiant(\"001250\", \"Khaled\", \"omar\",3 )\n",
    "e2=Etudiant(\"112550\", \"Sami\", \"salah\",1 )\n",
    "print(Etudiant.nombre)\n",
    "# Résultat ?\n",
    "print(e1.nombre)\n",
    "# Résultat ?\n",
    "e2.adresse=\"7 Avenue des Martyres Tunis\""
   ]
  },
  {
   "cell_type": "code",
   "execution_count": null,
   "id": "e0985d69",
   "metadata": {},
   "outputs": [],
   "source": [
    "# Exemple 2\n",
    "class voiture:\n",
    "    __slots__={\"couleur\",\"prix\"}\n",
    "    def __init__(self,couleur,prix) :\n",
    "        self.couleur=couleur\n",
    "        self.prix=prix    \n",
    "v1=voiture(\"grix\",\"1MD\")\n",
    "print(v1.couleur)\n",
    "v1.reparation=[\"Tolier\"]\n",
    "print(v1.reparation)"
   ]
  },
  {
   "cell_type": "markdown",
   "id": "873e6044",
   "metadata": {},
   "source": [
    "## Les méthodes\n",
    "- Les méthodes ont toujours un premier argument self \n",
    "- l’objet courant self\n",
    "- Pour les méthodes privées:\n",
    "    _nomméthode(self,…..)\n",
    "- méthode d'instance : Prendre en paramètre self\n",
    "Pointer vers l’instance de l’objet qui a appelé la méthode\n",
    "- méthode de classe :\n",
    "    accéder à l’état de la classe\n",
    "    Utiliser le décorateur @classmethod\n",
    "    Prend en paramètre cls au lieu de self\n"
   ]
  },
  {
   "cell_type": "markdown",
   "id": "c397e90c",
   "metadata": {},
   "source": [
    "## Objet \n",
    "un objet est caractérisé par : \n",
    "\n",
    "\t– Son identité : son nom\n",
    "\t– Son type : nom de la classe\n",
    "\t– Son état :  valeurs des attributs à un moment donné \n",
    "\t– Son comportement :  ensemble des méthodes (consultation, mise à jour)\n",
    "    - Instancier une classe par l’appel d’un constructeur"
   ]
  },
  {
   "cell_type": "markdown",
   "id": "95b74f8a",
   "metadata": {},
   "source": [
    "## Classe et objet"
   ]
  },
  {
   "cell_type": "markdown",
   "id": "f6490230",
   "metadata": {},
   "source": [
    "+ Isinstance: Vérifie si un objet est une instance d’une classe ou une de ses filles \n",
    "+ Syntaxe : (nomInstance,nomClasse)\n",
    "    + Vrai si nomInstance est une instance de nomClasse ou d’une de ses filles\n",
    "    + faux sinon"
   ]
  },
  {
   "cell_type": "code",
   "execution_count": 1,
   "id": "71d5cc60",
   "metadata": {},
   "outputs": [
    {
     "name": "stdout",
     "output_type": "stream",
     "text": [
      "je suis un ingénieur\n"
     ]
    },
    {
     "data": {
      "text/plain": [
       "True"
      ]
     },
     "execution_count": 1,
     "metadata": {},
     "output_type": "execute_result"
    }
   ],
   "source": [
    "class Ingenieur():\n",
    "    def __init__(self):\n",
    "        print(\"je suis un ingénieur\")\n",
    "ing1=Ingenieur()\n",
    "isinstance(ing1,Ingenieur)"
   ]
  },
  {
   "cell_type": "markdown",
   "id": "75661b3c",
   "metadata": {},
   "source": [
    "## Accesseurs/ Mutateurs:\n",
    "1) Accesseurs (getter):\n",
    "     Retourner la valeur d’un attribut\n",
    "\n",
    "2) Mutateurs(setter):\n",
    "     Modifier la valeur d’un attribut\n",
    "  "
   ]
  },
  {
   "cell_type": "code",
   "execution_count": null,
   "id": "ad69acea",
   "metadata": {},
   "outputs": [],
   "source": [
    "def set_attribut(self,valeur):\n",
    "    self.attribut=valeur"
   ]
  },
  {
   "cell_type": "code",
   "execution_count": null,
   "id": "7f60bf38",
   "metadata": {},
   "outputs": [],
   "source": [
    "def get_attribut(self):\n",
    "    return self.attribut"
   ]
  },
  {
   "cell_type": "code",
   "execution_count": null,
   "id": "f7bf1b33",
   "metadata": {},
   "outputs": [],
   "source": [
    "class Voiture:\n",
    "    def __init__(self):\n",
    "        pass\n",
    "    def get_kilometarge(self):\n",
    "        return (self.kilometrage)\n",
    "    def set_kilometarge(self,distance):\n",
    "        self.kilometrage=distance"
   ]
  },
  {
   "cell_type": "code",
   "execution_count": null,
   "id": "641109fc",
   "metadata": {},
   "outputs": [],
   "source": [
    "## Exemple1 \n",
    "class Etudiant :\n",
    "    def __ init __ (self, d_code, d_nom, d_prenom) :\n",
    "        self.code = d_code\n",
    "        self.nom = d_nom\n",
    "        self.prenom = d_prenom\n",
    "# instanciation d’un objet: création d’un objet\n",
    "# Appel du constructeur \n",
    "# Nomdel’objet = nomdelaclasse( ) \n",
    "e1=Etudiant(\"001250\", \"Khaled\", \"omar\" )\n",
    "e1=Etudiant(\"14066\", \"Oussama\", \"Bensalah\") \n",
    "e1.moyenne= \"14,66\" \n",
    "e2=Etudiant(\"5101\", \"Bilel\" , \"Ali\")\n",
    "e2.bourse=100"
   ]
  },
  {
   "cell_type": "code",
   "execution_count": null,
   "id": "c7cb608e",
   "metadata": {},
   "outputs": [],
   "source": [
    "## Exemple2\n",
    "class Voiture :\n",
    "    def __ init __ (self) :\n",
    "        pass\n",
    "v1=Voiture()\n",
    "v1.numero_serie= \" 219 tunisie 5823 \"\n",
    "v1.kilometrage =  \" 60000 \n",
    "v2=Voiture()\n",
    "v2.puissance = \" 7ch \""
   ]
  },
  {
   "cell_type": "markdown",
   "id": "899d7e55",
   "metadata": {},
   "source": [
    "# Les attributs spéciales:\n",
    "    L’attribut spéciales  __dict__:\n",
    "        + Attribut spécial\n",
    "        + Présent par défaut \n",
    "        + Dictionnaire qui contient les attributs de l’objet\n",
    "# Les méthodes spéciales :\n",
    "+ Les données et fonctions qui commencent par un double tiret-bas (__) sont des membres spéciaux, ils ont un sens particulier.\n",
    "+ La fonction membre spéciale __str__ retourne la chaîne de caractère qu’il faut afficher lorsqu’ on appelle la fonction print sur l’objet\n",
    "+ La fonction membre spéciale __call__ transforme un objet en un callable \n",
    "\n"
   ]
  },
  {
   "cell_type": "code",
   "execution_count": 3,
   "id": "bfb4027d",
   "metadata": {},
   "outputs": [
    {
     "name": "stdout",
     "output_type": "stream",
     "text": [
      "{'code': '001250', 'nom': 'Khaled', 'prenom': 'omar'}\n",
      "dict_keys(['code', 'nom', 'prenom'])\n",
      "dict_values(['001250', 'Khaled', 'omar'])\n"
     ]
    }
   ],
   "source": [
    "class Etudiant :\n",
    "    def __init__ (self, d_code, d_nom, d_prenom) :\n",
    "        self.code = d_code\n",
    "        self.nom = d_nom\n",
    "        self.prenom = d_prenom\n",
    "e1=Etudiant(\"001250\", \"Khaled\", \"omar\" )\n",
    "print(e1.__dict__)\n",
    "print(e1.__dict__.keys())\n",
    "print(e1.__dict__.values())"
   ]
  },
  {
   "cell_type": "code",
   "execution_count": 4,
   "id": "f7c0c17c",
   "metadata": {},
   "outputs": [
    {
     "name": "stdout",
     "output_type": "stream",
     "text": [
      "peugeot\n",
      "je suis une voiture je suis callable\n"
     ]
    }
   ],
   "source": [
    "class voiture :\n",
    "    def __str__(self) :\n",
    "        self.type=\"peugeot\"\n",
    "        return self.type\n",
    "    def __call__(self):\n",
    "        print(\"je suis une voiture je suis callable\")\n",
    "a=voiture()\n",
    "print(a)\n",
    "a()"
   ]
  },
  {
   "cell_type": "markdown",
   "id": "17e0dd9f",
   "metadata": {},
   "source": [
    "# propriétes \n",
    "+ Créer et générer des attributs à partir de méthodes de l’objet.\n",
    "+ Pour chaque appel à l’attribut on fait appel à la méthode\n",
    "    + Syntaxe :\n",
    "        + @property \n",
    "        + def picture(self): \n",
    "        + return valeur\n",
    "        + print(p.picture)"
   ]
  },
  {
   "cell_type": "markdown",
   "id": "daf5ccc4",
   "metadata": {},
   "source": [
    "## Méthode :méthode statique"
   ]
  },
  {
   "cell_type": "markdown",
   "id": "b5d1369b",
   "metadata": {},
   "source": [
    "Méthode sans instancier d’objets \n",
    "Programmer des services génériques\n",
    "Méthode appelée statique \n",
    "Ne contient pas self\n",
    "Syntaxe :\n",
    "Nom_dela_méthode=staticmethod(nom_dela_méthode)"
   ]
  },
  {
   "cell_type": "code",
   "execution_count": null,
   "id": "77f9a313",
   "metadata": {},
   "outputs": [],
   "source": [
    "# Exemple la méthode sqrt()\n",
    "\n",
    "import math \n",
    "  \n",
    "print(math.sqrt(0)) \n",
    "\n",
    "print(math.sqrt(4))"
   ]
  },
  {
   "cell_type": "code",
   "execution_count": null,
   "id": "4e2ecaa4",
   "metadata": {},
   "outputs": [],
   "source": [
    "class Math:\n",
    "    def isParfait(val) :\n",
    "        diviseur=[]\n",
    "        for i in range(1,(n//2)+1):\n",
    "            if n % i ==0 :\n",
    "                diviseur.append(i)\n",
    "        if(n==sum(diviseur)):\n",
    "                return True\n",
    "        else :\n",
    "                return False\n",
    "    isParfait= staticmethod(isParfait)\n",
    "print(Math.isParfait(2563156521))"
   ]
  },
  {
   "cell_type": "markdown",
   "id": "9c053abe",
   "metadata": {},
   "source": [
    "## Fonctions prédéfinies "
   ]
  },
  {
   "cell_type": "markdown",
   "id": "0a56a70e",
   "metadata": {},
   "source": [
    "+ delattr(objet,nomattribut) # Supprime un attribut\n",
    "+ getattr(objet, nomattribut) # retourne la valeur d'un attribut \n",
    "+ setattr(objet,attr,val) # attribue une valeur à un attribut Si l’attribut n’existe pas il sera créé\n",
    "+ hasattr(objet,attribut) # tester la présence d’un attribut dans un objet. mais retourne un booléen"
   ]
  },
  {
   "cell_type": "code",
   "execution_count": null,
   "id": "35602cd7",
   "metadata": {},
   "outputs": [],
   "source": [
    "delattr(v1, \"kilometrage\")\n",
    "print(getattr(e1,\"moyenne\"))\n",
    "setattr(e2,'diplome',[‘Baccalauréat’, ‘Maitrise', 'Master’])\n",
    "hasattr(kia rio, \"couleur\") "
   ]
  },
  {
   "cell_type": "markdown",
   "id": "6dd5795a",
   "metadata": {},
   "source": [
    "## Répartir les classes d'une application dans plusieurs fichiers (modules). "
   ]
  }
 ],
 "metadata": {
  "kernelspec": {
   "display_name": "Python 3",
   "language": "python",
   "name": "python3"
  },
  "language_info": {
   "codemirror_mode": {
    "name": "ipython",
    "version": 3
   },
   "file_extension": ".py",
   "mimetype": "text/x-python",
   "name": "python",
   "nbconvert_exporter": "python",
   "pygments_lexer": "ipython3",
   "version": "3.6.9"
  }
 },
 "nbformat": 4,
 "nbformat_minor": 5
}
