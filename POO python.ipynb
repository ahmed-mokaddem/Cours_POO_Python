{
 "cells": [
  {
   "cell_type": "markdown",
   "id": "a5eff2ed",
   "metadata": {},
   "source": [
    "# Encapsulation "
   ]
  },
  {
   "cell_type": "markdown",
   "id": "16837a47",
   "metadata": {},
   "source": [
    "+ Une couche protection pour empêcher l’accès aux données \n",
    "+ Objet renferme ses propres attributs et ses méthodes. \n",
    "+ Cacher le fonctionnement interne d’une entité.\n",
    "+ Masquer les détails de l’implémentation d’un objet aux autres objets.\n",
    "+ Eviter une modification par erreur des données d’un objet. \n",
    "+ Passer par les méthodes pour modifier les attributs."
   ]
  },
  {
   "cell_type": "markdown",
   "id": "872acc15",
   "metadata": {},
   "source": [
    "## Attributs privés\n",
    "- self._ _nomattribut\n",
    "- Accès à l’attribut privé en dehors de la classe: Nomobjet._nomclasse__attribut"
   ]
  },
  {
   "cell_type": "markdown",
   "id": "33e447ca",
   "metadata": {},
   "source": [
    "## Méthodes privées :\n",
    "\n",
    "+ self.__nomméthode(self,…)\n",
    "+ Faire appel à une méthode privée:\n",
    "+ Nomobjet._nomclasse__nommethode()"
   ]
  },
  {
   "cell_type": "code",
   "execution_count": 10,
   "id": "061619df",
   "metadata": {
    "scrolled": true
   },
   "outputs": [
    {
     "name": "stdout",
     "output_type": "stream",
     "text": [
      "1023621\n",
      "None\n"
     ]
    },
    {
     "ename": "AttributeError",
     "evalue": "'Etudiant' object has no attribute '__cin'",
     "output_type": "error",
     "traceback": [
      "\u001b[0;31m---------------------------------------------------------------------------\u001b[0m",
      "\u001b[0;31mAttributeError\u001b[0m                            Traceback (most recent call last)",
      "\u001b[0;32m<ipython-input-10-950800d7a5f0>\u001b[0m in \u001b[0;36m<module>\u001b[0;34m\u001b[0m\n\u001b[1;32m      8\u001b[0m \u001b[0me\u001b[0m\u001b[0;34m=\u001b[0m\u001b[0mEtudiant\u001b[0m\u001b[0;34m(\u001b[0m\u001b[0;34m\"Ahmed\"\u001b[0m\u001b[0;34m,\u001b[0m\u001b[0;34m\"ALi\"\u001b[0m\u001b[0;34m,\u001b[0m\u001b[0;36m1023621\u001b[0m\u001b[0;34m)\u001b[0m\u001b[0;34m\u001b[0m\u001b[0;34m\u001b[0m\u001b[0m\n\u001b[1;32m      9\u001b[0m \u001b[0mprint\u001b[0m\u001b[0;34m(\u001b[0m\u001b[0me\u001b[0m\u001b[0;34m.\u001b[0m\u001b[0mget_cin\u001b[0m\u001b[0;34m(\u001b[0m\u001b[0;34m)\u001b[0m\u001b[0;34m)\u001b[0m\u001b[0;34m\u001b[0m\u001b[0;34m\u001b[0m\u001b[0m\n\u001b[0;32m---> 10\u001b[0;31m \u001b[0mprint\u001b[0m\u001b[0;34m(\u001b[0m\u001b[0me\u001b[0m\u001b[0;34m.\u001b[0m\u001b[0m__cin\u001b[0m\u001b[0;34m)\u001b[0m\u001b[0;34m\u001b[0m\u001b[0;34m\u001b[0m\u001b[0m\n\u001b[0m",
      "\u001b[0;31mAttributeError\u001b[0m: 'Etudiant' object has no attribute '__cin'"
     ]
    }
   ],
   "source": [
    "class Etudiant():\n",
    "    def __init__(self,nom,prenom,cin):\n",
    "        self.nom=nom\n",
    "        self.prenom=prenom\n",
    "        self.__cin=cin\n",
    "    def get_cin(self):\n",
    "        print(self.__cin)\n",
    "e=Etudiant(\"Ahmed\",\"ALi\",1023621)\n",
    "print(e.get_cin())\n",
    "print(e.__cin)\n"
   ]
  },
  {
   "cell_type": "code",
   "execution_count": null,
   "id": "8179648f",
   "metadata": {
    "scrolled": true
   },
   "outputs": [],
   "source": [
    "class Etudiant() :\n",
    "    def __init__(self,d_code,d_nom,d_prenom):\n",
    "        self.__code = d_code\n",
    "        self.nom = d_nom\n",
    "        self.prenom = d_prenom\n",
    "    def __set_code(self, d_code) :\n",
    "        self.__code = d_code\n",
    "e1=Etudiant(\"14066\", \"Oussama\", \"ali\") \n",
    "print(dir(e1))\n",
    "print(e1._Etudiant__code)\n",
    "e1._Etudiant__code=10\n",
    "print(e1._Etudiant__code)\n",
    "e1._Etudiant__set_code(\"2025\")"
   ]
  },
  {
   "cell_type": "markdown",
   "id": "b843c22b",
   "metadata": {},
   "source": [
    "## Attribut protégé\n",
    "+ self._nomattribut\n",
    "+ Accès à l’attribut protégé peut être direct \n",
    "+ Nomobjet._nomattribut=val\n",
    "+ print(nombojet.nomattribut)"
   ]
  },
  {
   "cell_type": "markdown",
   "id": "f838e13c",
   "metadata": {},
   "source": [
    "# Héritage "
   ]
  },
  {
   "cell_type": "markdown",
   "id": "0e545497",
   "metadata": {},
   "source": [
    "+ Créer facilement des classes similaires à partir d’une autre classe.\n",
    "+ Moins de code \n",
    "+ Définir une nouvelle classe par spécialisation d’une (ou plusieurs) classes existantes. \n",
    "+ Classe fille d’une classe mère (super classe)\n",
    "+ Faire appel à la méthode de la classe mère en utilisant le mot-clef super.\n",
    "+ Une classe hérite d’une ou plusieurs classe \n",
    "+ La sous-classe : \n",
    "    + Récupère automatiquement tous les attributs et les méthodes des supers classes  \n",
    "    + Peut enrichir la description de la classe par l’ajout des attributs et des méthodes \n",
    "    + Peut modifier les types des attributs hérités\n",
    "    + Peut modifier le comportement des méthodes héritées. \n",
    "\n"
   ]
  },
  {
   "cell_type": "code",
   "execution_count": null,
   "id": "9f273641",
   "metadata": {},
   "outputs": [],
   "source": [
    "## Héritage simple :\n",
    "Syntaxe \n",
    "class  A(B) :\n",
    "# A est une sous classe de B\n"
   ]
  },
  {
   "cell_type": "markdown",
   "id": "62485ee4",
   "metadata": {},
   "source": [
    "## Héritage multiple :"
   ]
  },
  {
   "cell_type": "markdown",
   "id": "db0821ad",
   "metadata": {},
   "source": [
    "+ Syntaxe :\n",
    "    + class A(B,C,D) : \n",
    "+ A est une sous classe de B,C,D\n",
    "+ B, C et D ont les même attributs alors la classe cité en prmier sera celle qui donnera ces attributs et ces méthodes à A.\n",
    "+ Les membres de la classe fille seront donc l’union des membres de toutes les classes mères\n",
    "+ Méthode existe dans plusieurs parents, celle de la première classe sera conservée."
   ]
  },
  {
   "cell_type": "code",
   "execution_count": 11,
   "id": "9feed989",
   "metadata": {},
   "outputs": [],
   "source": [
    "## Exemple 1\n",
    "class personnel :\n",
    "    def __init__(self,d_code,d_nom,d_prenom) :\n",
    "        self.code=d_code\n",
    "        self.nom=d_nom\n",
    "        self.prenom=d_prenom"
   ]
  },
  {
   "cell_type": "code",
   "execution_count": 12,
   "id": "eeddbeb6",
   "metadata": {},
   "outputs": [],
   "source": [
    "# Exemple 2\n",
    "class Personnel :\n",
    "    def __init__(self,d_code,d_nom,d_prenom) :\n",
    "        self.code=d_code\n",
    "        self.nom=d_nom\n",
    "        self.prenom=d_prenom\n",
    "class Ingenieur(Personnel) :\n",
    "        def __init__(self, d_code,d_nom,d_prenom,d_specialite) :\n",
    "            super().__init__(d_code,d_nom,d_prenom) \n",
    "            self.specialite=d_specialite\n",
    "class Architecte(Personnel):\n",
    "       pass\n",
    "class Analyste(Personnel):\n",
    "       pass\n",
    "class Senior(Personnel):\n",
    "       pass"
   ]
  },
  {
   "cell_type": "markdown",
   "id": "83370645",
   "metadata": {},
   "source": [
    "## issubClass\n",
    "- Vérifie si une classe est une sous classe d’une autre classe syntaxe\n",
    "-Syntaxe :\n",
    "\n",
    "    + issubClass(classe1,classe2)\n",
    "    + Vrai si classe1 est une sous classe de classe2\n",
    "    + Faux sinon"
   ]
  },
  {
   "cell_type": "markdown",
   "id": "efc5856a",
   "metadata": {},
   "source": [
    "# Polymorphisme"
   ]
  },
  {
   "cell_type": "markdown",
   "id": "8c036f3c",
   "metadata": {},
   "source": [
    "- Attribuer des comportements différents à des objets dérivant les uns des autres.\n",
    "- Avoir la même méthode avec le même nom pour des objets construits de classes différentes."
   ]
  },
  {
   "cell_type": "code",
   "execution_count": 13,
   "id": "adcc0b38",
   "metadata": {},
   "outputs": [],
   "source": [
    "class Personnel:\n",
    "    def __init__ (self) :\n",
    "        pass\n",
    "class Ingenieur(Personnel) :\n",
    "    def __init__(self):\n",
    "        print(\"salaire ingenieur\")\n",
    "    def calcul_salaire(self,nb_heure,prix_heure) :\n",
    "        self.salaire=nb_heure*prix_heure\n",
    "class employe(Personnel) :\n",
    "    def __init__(self):\n",
    "        print(\"salaire employe\")\n",
    "    def calcul_salaire(self,salaire) :\n",
    "        self.salaire=salaire"
   ]
  },
  {
   "cell_type": "markdown",
   "id": "1dc76317",
   "metadata": {},
   "source": [
    "# Surcharge des opérateurs"
   ]
  },
  {
   "cell_type": "markdown",
   "id": "8d1720e6",
   "metadata": {},
   "source": [
    "+ Utiliser les opérateurs habituels entre les objets \n",
    "+ Surcharger les opérateurs pour être appliquer sur des instances de classes \n",
    "+ Attribuer un autre sens à ces opérateurs "
   ]
  },
  {
   "cell_type": "code",
   "execution_count": 2,
   "id": "cf25e18a",
   "metadata": {},
   "outputs": [],
   "source": [
    "class Personnel:\n",
    "    def __init__ (self):\n",
    "        pass"
   ]
  },
  {
   "cell_type": "markdown",
   "id": "eb80ee4d",
   "metadata": {},
   "source": [
    "| Méthodes   |    Définition |  Signes |\n",
    "|------------|:-------------:|------:|\n",
    "| _ _eq_ _ |  Comparaison |    ==   |\n",
    "| _ _ne_ _ |  Differnce |     !=  |\n",
    "| _ _gt_ _|  strictement Supérieur |   >    |\n",
    "| _ _ge_ _ |  Supérieur ou égal |     >=  |\n",
    "| _ _it_ _ |  Strictment Inférieur  |   <    |\n",
    "| _ _le_ _ |  inférieur ou égale |    <=   |\n",
    "| _ _and_ _ |  Et logique  |    &&   |\n",
    "| _ _or_ _ |  ou logique  |    ||\n",
    "| _ _xor_ _ |  ou Exclusif |      \n",
    "| _ _invert_ _ |   |  Not     |\n",
    "| _ _sub_ _ |  Soutraction |    -   |\n",
    "| _ _mul_ _ |    multiplication  |     *  |\n",
    "| _ _truediv_ _ |division |  /     |\n",
    "| _ _floordiv_ _ |  division entiére  |  //     |\n",
    "| _ _mod_ _ |    modulo   |    %   |\n",
    "| _ _pow_ _ | puissance |       |\n",
    "| _ _iadd_ _ |  addition avec affectation  |       |\n",
    "| _ _issub_ _ |    soustraction avec afectation    |       |\n"
   ]
  },
  {
   "cell_type": "code",
   "execution_count": null,
   "id": "c4c84f77",
   "metadata": {},
   "outputs": [],
   "source": [
    "# Exemple \n",
    "#Ingenieur1 est supérieur à ingenieur2 s’il a plus d’expérience\n",
    "class Personnel:\n",
    "    def __init__ (self) :\n",
    "        pass\n",
    "class Ingenieur(Personnel) :\n",
    "    def __init__(self,experience):\n",
    "        self.experience=experience\n",
    "        \n",
    "    def calcul_salaire(self,nb_heure,prix_heure) :\n",
    "        self.salaire=nb_heure*prix_heure\n",
    "    def __gt__(self,other):\n",
    "        if self.experience > other.experience :\n",
    "            return True\n",
    "        else :\n",
    "            return False\n",
    "def mission(ing1,ing2):\n",
    "    if ing1 > ing2 :\n",
    "        return True\n",
    "    else :\n",
    "        return False\n",
    "a=Ingenieur(20)\n",
    "b=Ingenieur(10)\n",
    "print(mission(a,b))"
   ]
  },
  {
   "cell_type": "markdown",
   "id": "6fac23ba",
   "metadata": {},
   "source": [
    "## Classe Abstraite "
   ]
  },
  {
   "cell_type": "markdown",
   "id": "05413771",
   "metadata": {},
   "source": [
    "+ Définir un comportement communs pour les classes dérivées.\n",
    "+ Ne peut pas instancier et créer des objets.\n",
    "+ Destinée pour être Héritée\n",
    "+ Les classes dérivées doivent implémenter leurs propres méthodes \n",
    "+ instanciation impossible si les méthodes ne sont pas définies \n",
    "+ La classe dérivées n’est instanciée que lorsque toutes les méthodes sont définies \n",
    "+ Ne fait pas partie du module principal de python\n",
    "+ Utilisation du module ABCMeta"
   ]
  },
  {
   "cell_type": "code",
   "execution_count": null,
   "id": "e1de56da",
   "metadata": {},
   "outputs": [],
   "source": [
    "from abc import ABCMeta, abstractmethod \n",
    "# module des classes abstraites ABC #(Abstract Base Classes)\n",
    "class Forme(metaclass=ABCMeta):\n",
    "    @abstractmethod # décorateur \n",
    "    def surface(self):\n",
    "        pass\n",
    "    @classmethod\n",
    "    def forme(cls):\n",
    "        print(\"je suis une forme\")\n",
    "class cercle(Forme):\n",
    "    def surface(self):\n",
    "        print(\"je suis un cercle\")        \n",
    "class cylindre(Forme):\n",
    "    def surface(self):\n",
    "        print(\"je suis un cylindre\")\n",
    "class rectangle(Forme):\n",
    "\"\"\"\n",
    "class recangle sans méthode surface \n",
    "Aucune instanciation possible\n",
    "\"\"\"\n",
    "    def set_longueur(self):\n",
    "        return(self.longueur)\n",
    "a=cercle()        \n",
    "a.surface()\n",
    "r=rectangle()"
   ]
  },
  {
   "cell_type": "markdown",
   "id": "6e0ece40",
   "metadata": {},
   "source": [
    "## Exemple 1: \n",
    "+ Définir une classe Cercle(). \n",
    "+ Les objets construits à partir de cette classe seront des cercles de tailles variées. \n",
    "+ Définir le constructeur qui utilise un paramètre rayon\n",
    "+ Définir une méthode surface(), qui retourne la surface du cercle."
   ]
  },
  {
   "cell_type": "code",
   "execution_count": null,
   "id": "dbf34536",
   "metadata": {},
   "outputs": [],
   "source": [
    "class Cercle :\n",
    "    def __init__(self, r):  # r le rayon \t\t\t       #cercle\n",
    "        self.rayon=r\n",
    "    def surface (self):\n",
    "        return self.rayon *self.rayon* 3.14"
   ]
  },
  {
   "cell_type": "markdown",
   "id": "5d396c49",
   "metadata": {},
   "source": [
    "## Exemple 2:\n",
    "+ Définir Cylindre() sous classe de Cercle.\n",
    "+ Définir le rayon et la hauteur. \n",
    "+ Ajouter une méthode volume() qui retourne le volume du cylindre."
   ]
  },
  {
   "cell_type": "code",
   "execution_count": 5,
   "id": "13ded1e6",
   "metadata": {},
   "outputs": [],
   "source": [
    "\n",
    "class Cercle :\n",
    "    def __init__(self, r):  # r le rayon   #cercle\n",
    "        self.rayon=r\n",
    "    def surface (self):\n",
    "        return self.rayon *self.rayon* 3.14\n",
    "class cylindre(Cercle):\n",
    "    def __init__(self,r,h):\n",
    "        super().__init__(r)\n",
    "        self.hauteur = h\n",
    "        self.rayon = r\n",
    "    def volume(self):\n",
    "        return self.surface()*self.hauteur"
   ]
  }
 ],
 "metadata": {
  "kernelspec": {
   "display_name": "Python 3",
   "language": "python",
   "name": "python3"
  },
  "language_info": {
   "codemirror_mode": {
    "name": "ipython",
    "version": 3
   },
   "file_extension": ".py",
   "mimetype": "text/x-python",
   "name": "python",
   "nbconvert_exporter": "python",
   "pygments_lexer": "ipython3",
   "version": "3.6.9"
  }
 },
 "nbformat": 4,
 "nbformat_minor": 5
}
